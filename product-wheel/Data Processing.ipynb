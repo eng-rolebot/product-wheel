{
 "cells": [
  {
   "cell_type": "markdown",
   "metadata": {},
   "source": [
    "## Data cleaning"
   ]
  },
  {
   "cell_type": "markdown",
   "metadata": {},
   "source": [
    "In the reality, we have some unusual data, before we input the data, we need to perform the data cleaning.\n",
    "1. Unusual color code that only used once  2. Fail rate"
   ]
  },
  {
   "cell_type": "code",
   "execution_count": 60,
   "metadata": {},
   "outputs": [],
   "source": [
    "import pandas as pd\n",
    "import numpy as np\n",
    "import matplotlib.pyplot as plt\n",
    "import numpy as np"
   ]
  },
  {
   "cell_type": "markdown",
   "metadata": {},
   "source": [
    "Importing the first dataframe: ordercolor transition report"
   ]
  },
  {
   "cell_type": "code",
   "execution_count": 3,
   "metadata": {},
   "outputs": [],
   "source": [
    "df1 = pd.read_excel('../data/OrderColorTransitionsReport 1_1_17 - 4_22_19.xlsx',\n",
    "              header=205, usecols=[0,1,4,5,7,8,9,11,12])"
   ]
  },
  {
   "cell_type": "code",
   "execution_count": 4,
   "metadata": {
    "scrolled": false
   },
   "outputs": [
    {
     "data": {
      "text/html": [
       "<div>\n",
       "<style scoped>\n",
       "    .dataframe tbody tr th:only-of-type {\n",
       "        vertical-align: middle;\n",
       "    }\n",
       "\n",
       "    .dataframe tbody tr th {\n",
       "        vertical-align: top;\n",
       "    }\n",
       "\n",
       "    .dataframe thead th {\n",
       "        text-align: right;\n",
       "    }\n",
       "</style>\n",
       "<table border=\"1\" class=\"dataframe\">\n",
       "  <thead>\n",
       "    <tr style=\"text-align: right;\">\n",
       "      <th></th>\n",
       "      <th>Cast Order</th>\n",
       "      <th>Color</th>\n",
       "      <th>Next Cast Order</th>\n",
       "      <th>Next Color Code</th>\n",
       "      <th>Cast Start</th>\n",
       "      <th>Cast End Time</th>\n",
       "      <th>Total Sheets</th>\n",
       "      <th>AGrade Sheets</th>\n",
       "      <th>Transition Sheets</th>\n",
       "    </tr>\n",
       "  </thead>\n",
       "  <tbody>\n",
       "    <tr>\n",
       "      <th>0</th>\n",
       "      <td>11570714</td>\n",
       "      <td>1M</td>\n",
       "      <td>11569110</td>\n",
       "      <td>CW</td>\n",
       "      <td>08/02/17 15:13</td>\n",
       "      <td>08/02/17 15:54</td>\n",
       "      <td>103</td>\n",
       "      <td>1</td>\n",
       "      <td>124</td>\n",
       "    </tr>\n",
       "    <tr>\n",
       "      <th>1</th>\n",
       "      <td>11570714</td>\n",
       "      <td>1M</td>\n",
       "      <td>11569110</td>\n",
       "      <td>CW</td>\n",
       "      <td>08/02/17 16:00</td>\n",
       "      <td>08/02/17 16:39</td>\n",
       "      <td>97</td>\n",
       "      <td>NaN</td>\n",
       "      <td>109</td>\n",
       "    </tr>\n",
       "    <tr>\n",
       "      <th>2</th>\n",
       "      <td>11570714</td>\n",
       "      <td>1M</td>\n",
       "      <td>11569110</td>\n",
       "      <td>CW</td>\n",
       "      <td>08/02/17 20:50</td>\n",
       "      <td>08/02/17 21:15</td>\n",
       "      <td>61</td>\n",
       "      <td>NaN</td>\n",
       "      <td>173</td>\n",
       "    </tr>\n",
       "    <tr>\n",
       "      <th>3</th>\n",
       "      <td>11570714</td>\n",
       "      <td>1M</td>\n",
       "      <td>11569110</td>\n",
       "      <td>CW</td>\n",
       "      <td>08/03/17 15:15</td>\n",
       "      <td>08/03/17 15:53</td>\n",
       "      <td>93</td>\n",
       "      <td>NaN</td>\n",
       "      <td>95</td>\n",
       "    </tr>\n",
       "    <tr>\n",
       "      <th>4</th>\n",
       "      <td>11570714</td>\n",
       "      <td>1M</td>\n",
       "      <td>11569110</td>\n",
       "      <td>CW</td>\n",
       "      <td>08/03/17 20:28</td>\n",
       "      <td>08/04/17 03:10</td>\n",
       "      <td>984</td>\n",
       "      <td>895</td>\n",
       "      <td>88</td>\n",
       "    </tr>\n",
       "  </tbody>\n",
       "</table>\n",
       "</div>"
      ],
      "text/plain": [
       "   Cast Order Color  Next Cast Order Next Color Code      Cast Start  \\\n",
       "0    11570714    1M         11569110              CW  08/02/17 15:13   \n",
       "1    11570714    1M         11569110              CW  08/02/17 16:00   \n",
       "2    11570714    1M         11569110              CW  08/02/17 20:50   \n",
       "3    11570714    1M         11569110              CW  08/03/17 15:15   \n",
       "4    11570714    1M         11569110              CW  08/03/17 20:28   \n",
       "\n",
       "    Cast End Time Total Sheets AGrade Sheets Transition Sheets  \n",
       "0  08/02/17 15:54          103             1               124  \n",
       "1  08/02/17 16:39           97           NaN               109  \n",
       "2  08/02/17 21:15           61           NaN               173  \n",
       "3  08/03/17 15:53           93           NaN                95  \n",
       "4  08/04/17 03:10          984           895                88  "
      ]
     },
     "execution_count": 4,
     "metadata": {},
     "output_type": "execute_result"
    }
   ],
   "source": [
    "df1.head()"
   ]
  },
  {
   "cell_type": "code",
   "execution_count": 20,
   "metadata": {},
   "outputs": [
    {
     "name": "stdout",
     "output_type": "stream",
     "text": [
      "good\n"
     ]
    }
   ],
   "source": [
    "a = df1.iloc[0,8]\n",
    "a = int(a)\n",
    "a\n",
    "if df1.iloc[0,0] == df1.iloc[1,0]:\n",
    "    print('good')"
   ]
  },
  {
   "cell_type": "code",
   "execution_count": 79,
   "metadata": {},
   "outputs": [],
   "source": [
    "def Select(color1, color2):\n",
    "    color = df1['Color'] == color1\n",
    "    nextcolorcode = df1 ['Next Color Code'] == color2\n",
    "    ndf = df1[color & nextcolorcode]\n",
    "    #return ndf\n",
    "    s = 0\n",
    "    n = 0\n",
    "    for i in range(len(ndf)-1):\n",
    "        if ndf.iloc[i,0] == ndf.iloc[i+1,0]:\n",
    "            n = n + 1\n",
    "    for a in range(n):\n",
    "        s = s + int(ndf.iloc[n,8])\n",
    "    print (color1 , color2)\n",
    "    print ('the number of this cycle:', n)\n",
    "    print ('total sheet loss:', s)"
   ]
  },
  {
   "cell_type": "code",
   "execution_count": 83,
   "metadata": {},
   "outputs": [
    {
     "name": "stdout",
     "output_type": "stream",
     "text": [
      "267\n",
      "269\n"
     ]
    }
   ],
   "source": [
    "print(len(df1['Color'].unique()))\n",
    "print(len(df1['Next Color Code'].unique()))"
   ]
  },
  {
   "cell_type": "code",
   "execution_count": null,
   "metadata": {},
   "outputs": [],
   "source": []
  },
  {
   "cell_type": "code",
   "execution_count": 82,
   "metadata": {
    "scrolled": true
   },
   "outputs": [
    {
     "name": "stdout",
     "output_type": "stream",
     "text": [
      "3480 4189\n"
     ]
    }
   ],
   "source": [
    "con = 0\n",
    "for i in range(len(df1)-1):\n",
    "    if df1.iloc[i,0] != df1.iloc[i+1,0]:\n",
    "        con = con + 1\n",
    "print (con, len(df1))"
   ]
  },
  {
   "cell_type": "code",
   "execution_count": 81,
   "metadata": {
    "scrolled": false
   },
   "outputs": [
    {
     "name": "stdout",
     "output_type": "stream",
     "text": [
      "1M CW\n",
      "the number of this cycle: 4\n",
      "total sheet loss: 352\n"
     ]
    }
   ],
   "source": [
    "Select('1M', 'CW')"
   ]
  },
  {
   "cell_type": "code",
   "execution_count": 105,
   "metadata": {},
   "outputs": [
    {
     "name": "stdout",
     "output_type": "stream",
     "text": [
      "267\n"
     ]
    }
   ],
   "source": [
    "print(len(df1['Color'].unique()))"
   ]
  },
  {
   "cell_type": "markdown",
   "metadata": {},
   "source": [
    "Calculating the # of differnt cast oder in unique color"
   ]
  },
  {
   "cell_type": "code",
   "execution_count": 110,
   "metadata": {},
   "outputs": [
    {
     "name": "stdout",
     "output_type": "stream",
     "text": [
      "1M 1\n",
      "2W 0\n",
      "3D 1\n",
      "3N 1\n",
      "3Y1 0\n",
      "3Z7 0\n",
      "4B 1\n",
      "4Z1 0\n",
      "4Z2 1\n",
      "4Z3 1\n",
      "5A 0\n",
      "6H2 0\n",
      "6H3 0\n",
      "6N 0\n",
      "7B 1\n",
      "7M 0\n",
      "7R 1\n",
      "7T 0\n",
      "9H 1\n",
      "9I 1\n",
      "9J 0\n",
      "9P 0\n",
      "AA 1\n",
      "AB 1\n",
      "AE 0\n",
      "AH 0\n",
      "AI 0\n",
      "AN 0\n",
      "AO 0\n",
      "AQ 1\n",
      "AR 1\n",
      "AT 0\n",
      "AW 1\n",
      "B2 1\n",
      "B3 1\n",
      "B4 1\n",
      "B5 1\n",
      "BD 1\n",
      "BE 1\n",
      "BF 1\n",
      "BH 1\n",
      "BI 0\n",
      "BK 0\n",
      "BL 0\n",
      "BM 1\n",
      "BN 0\n",
      "BQ 0\n",
      "BR 0\n",
      "BST 0\n",
      "CB 0\n",
      "CC 1\n",
      "CJ 1\n",
      "CL 1\n",
      "CN 1\n",
      "CO 1\n",
      "CS 1\n",
      "CT 1\n",
      "CV 1\n",
      "CW 1\n",
      "CX 0\n",
      "CXA 0\n",
      "DA 0\n",
      "DD 0\n",
      "DH 1\n",
      "DI 1\n",
      "DJ 0\n",
      "DM 1\n",
      "DMN 0\n",
      "DN 0\n",
      "DO 1\n",
      "DS 0\n",
      "DT 0\n",
      "DV 1\n",
      "DY 0\n",
      "EA 0\n",
      "EC 1\n",
      "ED 0\n",
      "EP 1\n",
      "ER 0\n",
      "EV 0\n",
      "EY 0\n",
      "EZ 1\n",
      "FA 0\n",
      "FB 0\n",
      "FD 1\n",
      "FF 1\n",
      "FH 0\n",
      "FJ 1\n",
      "FK 0\n",
      "FL 1\n",
      "FM 0\n",
      "FN 1\n",
      "FO 1\n",
      "FP 1\n",
      "FQ 1\n",
      "FR 0\n",
      "FS 1\n",
      "FT 1\n",
      "FU 1\n",
      "FV 1\n",
      "FVM 0\n",
      "FW 1\n",
      "FY 1\n",
      "G5 1\n",
      "G6 1\n",
      "G7 1\n",
      "GB 0\n",
      "GC 1\n",
      "GD 0\n",
      "GF 0\n",
      "GG 1\n",
      "GM 1\n",
      "GN 1\n",
      "GO 1\n",
      "GS 1\n",
      "GT 1\n",
      "GV 1\n",
      "GW 1\n",
      "GY 1\n",
      "HA 1\n",
      "HX 1\n",
      "HXA 0\n",
      "IL 1\n",
      "IM 0\n",
      "IP 1\n",
      "IY 1\n",
      "JB 0\n",
      "JC 1\n",
      "JF 0\n",
      "JP 0\n",
      "JV 0\n",
      "LGN 1\n",
      "LH 1\n",
      "LI 0\n",
      "LL 0\n",
      "LN 0\n",
      "LT 1\n",
      "M1 0\n",
      "MB 0\n",
      "MH 1\n",
      "MN 1\n",
      "MO 1\n",
      "MP 1\n",
      "MS 0\n",
      "MT 1\n",
      "MV 0\n",
      "MW 1\n",
      "MX 1\n",
      "N3 1\n",
      "NE 1\n",
      "NF 0\n",
      "NL 1\n",
      "NP 0\n",
      "NR 1\n",
      "NS 0\n",
      "NX 1\n",
      "NXA 0\n",
      "OA 1\n",
      "OT 1\n",
      "PBL 1\n",
      "PG 1\n",
      "PN 1\n",
      "PO 1\n",
      "PX 0\n",
      "Q3 0\n",
      "Q4 0\n",
      "Q5 0\n",
      "Q6 0\n",
      "Q8 0\n",
      "QM 0\n",
      "R3 1\n",
      "RC 1\n",
      "RD 0\n",
      "RF 1\n",
      "RI 1\n",
      "RL 0\n",
      "RO 0\n",
      "RP 1\n",
      "RR 0\n",
      "RU 1\n",
      "RV 1\n",
      "SD 1\n",
      "SF 0\n",
      "SH 0\n",
      "SI 1\n",
      "SK 0\n",
      "SL 1\n",
      "SM 0\n",
      "SN 0\n",
      "SP 1\n",
      "SR 1\n",
      "SS 0\n",
      "SV 1\n",
      "SX 1\n",
      "TA 0\n",
      "TD 0\n",
      "TE 0\n",
      "TF 1\n",
      "TO 1\n",
      "TS 1\n",
      "TU 0\n",
      "TY 1\n",
      "U5 1\n",
      "UB 1\n",
      "UH 1\n",
      "UIM 1\n",
      "UR 0\n",
      "UWG 0\n",
      "UX 1\n",
      "V1 0\n",
      "VD 1\n",
      "VDT 1\n",
      "VE 0\n",
      "VF 0\n",
      "VH 1\n",
      "VI 1\n",
      "VL 0\n",
      "VM 1\n",
      "VN 0\n",
      "VO 0\n",
      "VQ 0\n",
      "VU 0\n",
      "VV 0\n",
      "VX 0\n",
      "VY 1\n",
      "VZ 0\n",
      "W2 1\n",
      "W3 0\n",
      "W5 1\n",
      "W7 1\n",
      "WC 1\n",
      "WE 0\n",
      "WG 1\n",
      "WH 0\n",
      "WI 0\n",
      "WJ 0\n",
      "WM 1\n",
      "WN 1\n",
      "WX 0\n",
      "WXA 0\n",
      "XD 0\n",
      "XE 1\n",
      "XG 0\n",
      "XN 0\n",
      "XP 0\n",
      "XW 1\n",
      "YL 1\n",
      "ZC 1\n",
      "ZE 0\n",
      "ZG 1\n",
      "ZI 1\n",
      "ZJ 0\n",
      "ZL 0\n",
      "ZM 0\n",
      "ZN 1\n",
      "ZO 0\n",
      "ZP 0\n",
      "ZQ 0\n",
      "ZR 1\n",
      "ZS 1\n",
      "ZT 1\n",
      "ZU 0\n",
      "ZV 1\n",
      "ZW 1\n",
      "ZX 1\n",
      "ZY 0\n",
      "ZZ 1\n"
     ]
    }
   ],
   "source": [
    "for i in range(len(df1['Color'].unique())):\n",
    "    color1 = a[i]\n",
    "    color = df1['Color'] == color1\n",
    "    ndf2 = df1[color]\n",
    "    for n in range (len(ndf2)-1):\n",
    "        cast_order = 0\n",
    "        if df1.iloc[n,0] != df1.iloc[n+1,0]:\n",
    "            cast_order = cast_order  + 1\n",
    "    print (color1 , cast_order)"
   ]
  },
  {
   "cell_type": "code",
   "execution_count": 135,
   "metadata": {},
   "outputs": [
    {
     "ename": "TypeError",
     "evalue": "'int' object is not subscriptable",
     "output_type": "error",
     "traceback": [
      "\u001b[0;31m---------------------------------------------------------------------------\u001b[0m",
      "\u001b[0;31mTypeError\u001b[0m                                 Traceback (most recent call last)",
      "\u001b[0;32m<ipython-input-135-0f4b8ce31d1d>\u001b[0m in \u001b[0;36m<module>\u001b[0;34m\u001b[0m\n\u001b[1;32m      1\u001b[0m \u001b[0;32mfor\u001b[0m \u001b[0mo\u001b[0m \u001b[0;32min\u001b[0m \u001b[0mrange\u001b[0m\u001b[0;34m(\u001b[0m\u001b[0mlen\u001b[0m\u001b[0;34m(\u001b[0m\u001b[0mdf1\u001b[0m\u001b[0;34m[\u001b[0m\u001b[0;34m'Color'\u001b[0m\u001b[0;34m]\u001b[0m\u001b[0;34m.\u001b[0m\u001b[0munique\u001b[0m\u001b[0;34m(\u001b[0m\u001b[0;34m)\u001b[0m\u001b[0;34m)\u001b[0m\u001b[0;34m)\u001b[0m\u001b[0;34m:\u001b[0m\u001b[0;34m\u001b[0m\u001b[0;34m\u001b[0m\u001b[0m\n\u001b[0;32m----> 2\u001b[0;31m     \u001b[0mcolor\u001b[0m \u001b[0;34m=\u001b[0m \u001b[0ma\u001b[0m\u001b[0;34m[\u001b[0m\u001b[0mo\u001b[0m\u001b[0;34m]\u001b[0m\u001b[0;34m\u001b[0m\u001b[0;34m\u001b[0m\u001b[0m\n\u001b[0m\u001b[1;32m      3\u001b[0m     \u001b[0mcolor\u001b[0m \u001b[0;34m=\u001b[0m \u001b[0mdf1\u001b[0m\u001b[0;34m[\u001b[0m\u001b[0;34m'Color'\u001b[0m\u001b[0;34m]\u001b[0m \u001b[0;34m==\u001b[0m \u001b[0mcolor\u001b[0m\u001b[0;34m\u001b[0m\u001b[0;34m\u001b[0m\u001b[0m\n\u001b[1;32m      4\u001b[0m     \u001b[0mndf2\u001b[0m \u001b[0;34m=\u001b[0m \u001b[0mdf1\u001b[0m\u001b[0;34m[\u001b[0m\u001b[0mcolor\u001b[0m\u001b[0;34m]\u001b[0m\u001b[0;34m\u001b[0m\u001b[0;34m\u001b[0m\u001b[0m\n\u001b[1;32m      5\u001b[0m     \u001b[0;31m#print (color1)\u001b[0m\u001b[0;34m\u001b[0m\u001b[0;34m\u001b[0m\u001b[0;34m\u001b[0m\u001b[0m\n",
      "\u001b[0;31mTypeError\u001b[0m: 'int' object is not subscriptable"
     ]
    }
   ],
   "source": [
    "for o in range(len(df1['Color'].unique())):\n",
    "    color = a[o]\n",
    "    color = df1['Color'] == color\n",
    "    ndf2 = df1[color]\n",
    "    #print (color1)\n",
    "    s1 = 0\n",
    "    s2 = 0\n",
    "    n1 = 0\n",
    "    n2 = 0\n",
    "    for i in range(len(ndf2)-1):\n",
    "        if ndf2.iloc[i,0] == ndf2.iloc[i+1,0]:\n",
    "            n1 = n1 + 1\n",
    "        else:\n",
    "            n2 = n2 + 1\n",
    "    for a in range(n1):\n",
    "        s1 = s1 + int(ndf2.iloc[n1,8])\n",
    "    for b in range(n2):\n",
    "        s2 = s2 + int(ndf2.iloc[n1+n2,8])\n",
    "    print (color, n1, n2, s1, s2)"
   ]
  },
  {
   "cell_type": "code",
   "execution_count": 126,
   "metadata": {
    "scrolled": true
   },
   "outputs": [
    {
     "data": {
      "text/plain": [
       "'1M'"
      ]
     },
     "execution_count": 126,
     "metadata": {},
     "output_type": "execute_result"
    }
   ],
   "source": [
    "a = list(df1['Color'].unique())\n",
    "a[0]"
   ]
  },
  {
   "cell_type": "code",
   "execution_count": null,
   "metadata": {},
   "outputs": [],
   "source": [
    "def Select(color1, color2):\n",
    "    color = df1['Color'] == color1\n",
    "    nextcolorcode = df1 ['Next Color Code'] == color2\n",
    "    ndf = df1[color & nextcolorcode]\n",
    "    #return ndf\n",
    "    s = 0\n",
    "    n = 0\n",
    "    for i in range(len(ndf)-1):\n",
    "        if ndf.iloc[i,0] == ndf.iloc[i+1,0]:\n",
    "            n = n + 1\n",
    "    for a in range(n):\n",
    "        s = s + int(ndf.iloc[n,8])\n",
    "    print (color1 , color2)\n",
    "    print ('the number of this cycle:', n)\n",
    "    print ('total sheet loss:', s)"
   ]
  },
  {
   "cell_type": "code",
   "execution_count": 22,
   "metadata": {},
   "outputs": [
    {
     "data": {
      "text/html": [
       "<div>\n",
       "<style scoped>\n",
       "    .dataframe tbody tr th:only-of-type {\n",
       "        vertical-align: middle;\n",
       "    }\n",
       "\n",
       "    .dataframe tbody tr th {\n",
       "        vertical-align: top;\n",
       "    }\n",
       "\n",
       "    .dataframe thead th {\n",
       "        text-align: right;\n",
       "    }\n",
       "</style>\n",
       "<table border=\"1\" class=\"dataframe\">\n",
       "  <thead>\n",
       "    <tr style=\"text-align: right;\">\n",
       "      <th></th>\n",
       "      <th>Cast Order</th>\n",
       "      <th>Color</th>\n",
       "      <th>Next Cast Order</th>\n",
       "      <th>Next Color Code</th>\n",
       "      <th>Cast Start</th>\n",
       "      <th>Cast End Time</th>\n",
       "      <th>Total Sheets</th>\n",
       "      <th>AGrade Sheets</th>\n",
       "      <th>Transition Sheets</th>\n",
       "    </tr>\n",
       "  </thead>\n",
       "  <tbody>\n",
       "    <tr>\n",
       "      <th>0</th>\n",
       "      <td>11570714</td>\n",
       "      <td>1M</td>\n",
       "      <td>11569110</td>\n",
       "      <td>CW</td>\n",
       "      <td>08/02/17 15:13</td>\n",
       "      <td>08/02/17 15:54</td>\n",
       "      <td>103</td>\n",
       "      <td>1</td>\n",
       "      <td>124</td>\n",
       "    </tr>\n",
       "    <tr>\n",
       "      <th>1</th>\n",
       "      <td>11570714</td>\n",
       "      <td>1M</td>\n",
       "      <td>11569110</td>\n",
       "      <td>CW</td>\n",
       "      <td>08/02/17 16:00</td>\n",
       "      <td>08/02/17 16:39</td>\n",
       "      <td>97</td>\n",
       "      <td>NaN</td>\n",
       "      <td>109</td>\n",
       "    </tr>\n",
       "    <tr>\n",
       "      <th>2</th>\n",
       "      <td>11570714</td>\n",
       "      <td>1M</td>\n",
       "      <td>11569110</td>\n",
       "      <td>CW</td>\n",
       "      <td>08/02/17 20:50</td>\n",
       "      <td>08/02/17 21:15</td>\n",
       "      <td>61</td>\n",
       "      <td>NaN</td>\n",
       "      <td>173</td>\n",
       "    </tr>\n",
       "    <tr>\n",
       "      <th>3</th>\n",
       "      <td>11570714</td>\n",
       "      <td>1M</td>\n",
       "      <td>11569110</td>\n",
       "      <td>CW</td>\n",
       "      <td>08/03/17 15:15</td>\n",
       "      <td>08/03/17 15:53</td>\n",
       "      <td>93</td>\n",
       "      <td>NaN</td>\n",
       "      <td>95</td>\n",
       "    </tr>\n",
       "    <tr>\n",
       "      <th>4</th>\n",
       "      <td>11570714</td>\n",
       "      <td>1M</td>\n",
       "      <td>11569110</td>\n",
       "      <td>CW</td>\n",
       "      <td>08/03/17 20:28</td>\n",
       "      <td>08/04/17 03:10</td>\n",
       "      <td>984</td>\n",
       "      <td>895</td>\n",
       "      <td>88</td>\n",
       "    </tr>\n",
       "    <tr>\n",
       "      <th>5</th>\n",
       "      <td>11636116</td>\n",
       "      <td>1M</td>\n",
       "      <td>11637958</td>\n",
       "      <td>CW</td>\n",
       "      <td>04/13/18 22:56</td>\n",
       "      <td>04/14/18 11:27</td>\n",
       "      <td>1,088</td>\n",
       "      <td>391</td>\n",
       "      <td>69</td>\n",
       "    </tr>\n",
       "  </tbody>\n",
       "</table>\n",
       "</div>"
      ],
      "text/plain": [
       "   Cast Order Color  Next Cast Order Next Color Code      Cast Start  \\\n",
       "0    11570714    1M         11569110              CW  08/02/17 15:13   \n",
       "1    11570714    1M         11569110              CW  08/02/17 16:00   \n",
       "2    11570714    1M         11569110              CW  08/02/17 20:50   \n",
       "3    11570714    1M         11569110              CW  08/03/17 15:15   \n",
       "4    11570714    1M         11569110              CW  08/03/17 20:28   \n",
       "5    11636116    1M         11637958              CW  04/13/18 22:56   \n",
       "\n",
       "    Cast End Time Total Sheets AGrade Sheets Transition Sheets  \n",
       "0  08/02/17 15:54          103             1               124  \n",
       "1  08/02/17 16:39           97           NaN               109  \n",
       "2  08/02/17 21:15           61           NaN               173  \n",
       "3  08/03/17 15:53           93           NaN                95  \n",
       "4  08/04/17 03:10          984           895                88  \n",
       "5  04/14/18 11:27        1,088           391                69  "
      ]
     },
     "execution_count": 22,
     "metadata": {},
     "output_type": "execute_result"
    }
   ],
   "source": [
    "Select('1M' , 'CW')"
   ]
  },
  {
   "cell_type": "markdown",
   "metadata": {},
   "source": [
    "Importing the second dataframe: variable cost per sheet"
   ]
  },
  {
   "cell_type": "code",
   "execution_count": 5,
   "metadata": {},
   "outputs": [],
   "source": [
    "df2 = df_desc = pd.read_excel('../data/Variable cost per sheet.xlsx',\n",
    "                header=3)"
   ]
  },
  {
   "cell_type": "code",
   "execution_count": 6,
   "metadata": {
    "scrolled": true
   },
   "outputs": [
    {
     "data": {
      "text/html": [
       "<div>\n",
       "<style scoped>\n",
       "    .dataframe tbody tr th:only-of-type {\n",
       "        vertical-align: middle;\n",
       "    }\n",
       "\n",
       "    .dataframe tbody tr th {\n",
       "        vertical-align: top;\n",
       "    }\n",
       "\n",
       "    .dataframe thead th {\n",
       "        text-align: right;\n",
       "    }\n",
       "</style>\n",
       "<table border=\"1\" class=\"dataframe\">\n",
       "  <thead>\n",
       "    <tr style=\"text-align: right;\">\n",
       "      <th></th>\n",
       "      <th>Line</th>\n",
       "      <th>CC DIM</th>\n",
       "      <th>D code</th>\n",
       "      <th>2019 GLBL STD</th>\n",
       "      <th>Super Clean</th>\n",
       "      <th>Demand</th>\n",
       "      <th>Sales Rank</th>\n",
       "      <th>Sales Rank Cat</th>\n",
       "      <th>Family</th>\n",
       "      <th>Sub Family</th>\n",
       "      <th>...</th>\n",
       "      <th>Color</th>\n",
       "      <th>Sub Family Number</th>\n",
       "      <th>Sequence</th>\n",
       "      <th>VCOM</th>\n",
       "      <th>TCOM</th>\n",
       "      <th>Mean Trans Loss</th>\n",
       "      <th>Transition penalty</th>\n",
       "      <th>Family Transition Cost</th>\n",
       "      <th>Transition Cost</th>\n",
       "      <th>Update Family Seq</th>\n",
       "    </tr>\n",
       "  </thead>\n",
       "  <tbody>\n",
       "    <tr>\n",
       "      <th>0</th>\n",
       "      <td>CSL2</td>\n",
       "      <td>3D1/2</td>\n",
       "      <td>D12516781</td>\n",
       "      <td>NM</td>\n",
       "      <td>NaN</td>\n",
       "      <td>2693</td>\n",
       "      <td>107</td>\n",
       "      <td>R5 101+</td>\n",
       "      <td>Standard</td>\n",
       "      <td>Genesis</td>\n",
       "      <td>...</td>\n",
       "      <td>Clay</td>\n",
       "      <td>2</td>\n",
       "      <td>44.0</td>\n",
       "      <td>117.357384</td>\n",
       "      <td>156.761945</td>\n",
       "      <td>105.846154</td>\n",
       "      <td>NaN</td>\n",
       "      <td>NaN</td>\n",
       "      <td>12421.827745</td>\n",
       "      <td>2</td>\n",
       "    </tr>\n",
       "    <tr>\n",
       "      <th>1</th>\n",
       "      <td>CSL2</td>\n",
       "      <td>4B1/2</td>\n",
       "      <td>D13901285</td>\n",
       "      <td>Std</td>\n",
       "      <td>NaN</td>\n",
       "      <td>5189</td>\n",
       "      <td>83</td>\n",
       "      <td>R4 51-100</td>\n",
       "      <td>Standard</td>\n",
       "      <td>Lustra</td>\n",
       "      <td>...</td>\n",
       "      <td>Sparkling White</td>\n",
       "      <td>3</td>\n",
       "      <td>58.0</td>\n",
       "      <td>155.064526</td>\n",
       "      <td>208.946769</td>\n",
       "      <td>41.400000</td>\n",
       "      <td>NaN</td>\n",
       "      <td>NaN</td>\n",
       "      <td>6419.671385</td>\n",
       "      <td>3</td>\n",
       "    </tr>\n",
       "    <tr>\n",
       "      <th>2</th>\n",
       "      <td>CSL1</td>\n",
       "      <td>7B1/2</td>\n",
       "      <td>D11975095</td>\n",
       "      <td>Std</td>\n",
       "      <td>NaN</td>\n",
       "      <td>5475</td>\n",
       "      <td>26</td>\n",
       "      <td>R2 11-30</td>\n",
       "      <td>Granite</td>\n",
       "      <td>Summit</td>\n",
       "      <td>...</td>\n",
       "      <td>Maui</td>\n",
       "      <td>2</td>\n",
       "      <td>20.0</td>\n",
       "      <td>125.609690</td>\n",
       "      <td>187.432048</td>\n",
       "      <td>27.600000</td>\n",
       "      <td>NaN</td>\n",
       "      <td>NaN</td>\n",
       "      <td>3466.827448</td>\n",
       "      <td>2</td>\n",
       "    </tr>\n",
       "    <tr>\n",
       "      <th>3</th>\n",
       "      <td>CSL2</td>\n",
       "      <td>AA1/2</td>\n",
       "      <td>D12361842</td>\n",
       "      <td>Std</td>\n",
       "      <td>NaN</td>\n",
       "      <td>6566</td>\n",
       "      <td>94</td>\n",
       "      <td>R4 51-100</td>\n",
       "      <td>Granite</td>\n",
       "      <td>Artisan</td>\n",
       "      <td>...</td>\n",
       "      <td>Lava Rock</td>\n",
       "      <td>1</td>\n",
       "      <td>6.0</td>\n",
       "      <td>146.220113</td>\n",
       "      <td>212.491799</td>\n",
       "      <td>36.916667</td>\n",
       "      <td>11187.0</td>\n",
       "      <td>NaN</td>\n",
       "      <td>16584.959182</td>\n",
       "      <td>1</td>\n",
       "    </tr>\n",
       "    <tr>\n",
       "      <th>4</th>\n",
       "      <td>CSL1</td>\n",
       "      <td>AB1/2</td>\n",
       "      <td>D11972996</td>\n",
       "      <td>Std</td>\n",
       "      <td>NaN</td>\n",
       "      <td>10840</td>\n",
       "      <td>15</td>\n",
       "      <td>R2 11-30</td>\n",
       "      <td>Granite</td>\n",
       "      <td>Summit</td>\n",
       "      <td>...</td>\n",
       "      <td>Abalone</td>\n",
       "      <td>2</td>\n",
       "      <td>19.0</td>\n",
       "      <td>115.219542</td>\n",
       "      <td>171.037488</td>\n",
       "      <td>44.500000</td>\n",
       "      <td>NaN</td>\n",
       "      <td>NaN</td>\n",
       "      <td>5127.269602</td>\n",
       "      <td>2</td>\n",
       "    </tr>\n",
       "  </tbody>\n",
       "</table>\n",
       "<p>5 rows × 21 columns</p>\n",
       "</div>"
      ],
      "text/plain": [
       "   Line CC DIM     D code 2019 GLBL STD Super Clean  Demand  Sales Rank  \\\n",
       "0  CSL2  3D1/2  D12516781            NM         NaN    2693         107   \n",
       "1  CSL2  4B1/2  D13901285           Std         NaN    5189          83   \n",
       "2  CSL1  7B1/2  D11975095           Std         NaN    5475          26   \n",
       "3  CSL2  AA1/2  D12361842           Std         NaN    6566          94   \n",
       "4  CSL1  AB1/2  D11972996           Std         NaN   10840          15   \n",
       "\n",
       "  Sales Rank Cat    Family Sub Family  ...            Color Sub Family Number  \\\n",
       "0        R5 101+  Standard    Genesis  ...             Clay                 2   \n",
       "1      R4 51-100  Standard     Lustra  ...  Sparkling White                 3   \n",
       "2       R2 11-30   Granite     Summit  ...             Maui                 2   \n",
       "3      R4 51-100   Granite    Artisan  ...        Lava Rock                 1   \n",
       "4       R2 11-30   Granite     Summit  ...          Abalone                 2   \n",
       "\n",
       "   Sequence        VCOM        TCOM  Mean Trans Loss  Transition penalty  \\\n",
       "0      44.0  117.357384  156.761945       105.846154                 NaN   \n",
       "1      58.0  155.064526  208.946769        41.400000                 NaN   \n",
       "2      20.0  125.609690  187.432048        27.600000                 NaN   \n",
       "3       6.0  146.220113  212.491799        36.916667             11187.0   \n",
       "4      19.0  115.219542  171.037488        44.500000                 NaN   \n",
       "\n",
       "   Family Transition Cost  Transition Cost  Update Family Seq  \n",
       "0                     NaN     12421.827745                  2  \n",
       "1                     NaN      6419.671385                  3  \n",
       "2                     NaN      3466.827448                  2  \n",
       "3                     NaN     16584.959182                  1  \n",
       "4                     NaN      5127.269602                  2  \n",
       "\n",
       "[5 rows x 21 columns]"
      ]
     },
     "execution_count": 6,
     "metadata": {},
     "output_type": "execute_result"
    }
   ],
   "source": [
    "df2.head()"
   ]
  },
  {
   "cell_type": "markdown",
   "metadata": {},
   "source": [
    "### 1. For the unsusal color code"
   ]
  },
  {
   "cell_type": "markdown",
   "metadata": {},
   "source": [
    "To see how many unique color in the color and next color code."
   ]
  },
  {
   "cell_type": "code",
   "execution_count": 21,
   "metadata": {
    "scrolled": true
   },
   "outputs": [
    {
     "name": "stdout",
     "output_type": "stream",
     "text": [
      "267\n",
      "269\n"
     ]
    }
   ],
   "source": [
    "print(len(df1['Color'].unique()))\n",
    "print(len(df1['Next Color Code'].unique()))"
   ]
  },
  {
   "cell_type": "code",
   "execution_count": 23,
   "metadata": {
    "scrolled": true
   },
   "outputs": [
    {
     "name": "stdout",
     "output_type": "stream",
     "text": [
      "[]\n",
      "['DP', 'dv']\n"
     ]
    }
   ],
   "source": [
    "print(list(set(df1['Color'].unique()) - set(df1['Next Color Code'].unique())))\n",
    "print(list(set(df1['Next Color Code'].unique()) - set(df1['Color'].unique())))"
   ]
  },
  {
   "cell_type": "code",
   "execution_count": 38,
   "metadata": {},
   "outputs": [],
   "source": [
    "uc = ['DP', 'dv']"
   ]
  },
  {
   "cell_type": "code",
   "execution_count": 41,
   "metadata": {
    "scrolled": true
   },
   "outputs": [
    {
     "data": {
      "text/html": [
       "<div>\n",
       "<style scoped>\n",
       "    .dataframe tbody tr th:only-of-type {\n",
       "        vertical-align: middle;\n",
       "    }\n",
       "\n",
       "    .dataframe tbody tr th {\n",
       "        vertical-align: top;\n",
       "    }\n",
       "\n",
       "    .dataframe thead th {\n",
       "        text-align: right;\n",
       "    }\n",
       "</style>\n",
       "<table border=\"1\" class=\"dataframe\">\n",
       "  <thead>\n",
       "    <tr style=\"text-align: right;\">\n",
       "      <th></th>\n",
       "      <th>Cast Order</th>\n",
       "      <th>Color</th>\n",
       "      <th>Next Cast Order</th>\n",
       "      <th>Next Color Code</th>\n",
       "      <th>Cast Start</th>\n",
       "      <th>Cast End Time</th>\n",
       "      <th>Total Sheets</th>\n",
       "      <th>AGrade Sheets</th>\n",
       "      <th>Transition Sheets</th>\n",
       "    </tr>\n",
       "  </thead>\n",
       "  <tbody>\n",
       "    <tr>\n",
       "      <th>887</th>\n",
       "      <td>11621393</td>\n",
       "      <td>CW</td>\n",
       "      <td>11621091</td>\n",
       "      <td>dv</td>\n",
       "      <td>02/10/18 03:42</td>\n",
       "      <td>02/10/18 14:54</td>\n",
       "      <td>1,004</td>\n",
       "      <td>971</td>\n",
       "      <td>14</td>\n",
       "    </tr>\n",
       "    <tr>\n",
       "      <th>3512</th>\n",
       "      <td>11548686</td>\n",
       "      <td>W5</td>\n",
       "      <td>11552521</td>\n",
       "      <td>DP</td>\n",
       "      <td>05/31/17 00:25</td>\n",
       "      <td>05/31/17 03:19</td>\n",
       "      <td>254</td>\n",
       "      <td>142</td>\n",
       "      <td>76</td>\n",
       "    </tr>\n",
       "  </tbody>\n",
       "</table>\n",
       "</div>"
      ],
      "text/plain": [
       "      Cast Order Color  Next Cast Order Next Color Code      Cast Start  \\\n",
       "887     11621393    CW         11621091              dv  02/10/18 03:42   \n",
       "3512    11548686    W5         11552521              DP  05/31/17 00:25   \n",
       "\n",
       "       Cast End Time Total Sheets AGrade Sheets Transition Sheets  \n",
       "887   02/10/18 14:54        1,004           971                14  \n",
       "3512  05/31/17 03:19          254           142                76  "
      ]
     },
     "execution_count": 41,
     "metadata": {},
     "output_type": "execute_result"
    }
   ],
   "source": [
    "df1.loc[df1['Next Color Code'].isin(['DP', 'dv'])]"
   ]
  },
  {
   "cell_type": "markdown",
   "metadata": {},
   "source": [
    "Find the unsual color code in the data frame and delete it"
   ]
  },
  {
   "cell_type": "code",
   "execution_count": 42,
   "metadata": {},
   "outputs": [
    {
     "data": {
      "text/plain": [
       "4189"
      ]
     },
     "execution_count": 42,
     "metadata": {},
     "output_type": "execute_result"
    }
   ],
   "source": [
    "len(df1)"
   ]
  },
  {
   "cell_type": "code",
   "execution_count": 63,
   "metadata": {},
   "outputs": [],
   "source": [
    "newdf1 = df1.set_index('Next Color Code')\n",
    "newdf1 = newdf1.drop(['DP', 'dv'], axis=0)"
   ]
  },
  {
   "cell_type": "code",
   "execution_count": 79,
   "metadata": {},
   "outputs": [],
   "source": [
    "newdf2 = df1.set_index('Next Color Code')\n",
    "newdf2 = newdf2.drop(list(set(df1['Next Color Code'].unique()) - set(df1['Color'].unique())), axis=0)"
   ]
  },
  {
   "cell_type": "code",
   "execution_count": 64,
   "metadata": {},
   "outputs": [
    {
     "data": {
      "text/plain": [
       "4187"
      ]
     },
     "execution_count": 64,
     "metadata": {},
     "output_type": "execute_result"
    }
   ],
   "source": [
    "len(newdf1)"
   ]
  },
  {
   "cell_type": "markdown",
   "metadata": {},
   "source": [
    "Creating a new dataframe without the unusual color code named newdf1"
   ]
  },
  {
   "cell_type": "markdown",
   "metadata": {},
   "source": [
    "define a function to delete the unusual data"
   ]
  },
  {
   "cell_type": "code",
   "execution_count": 80,
   "metadata": {},
   "outputs": [],
   "source": [
    "def delete_unusualcolor(path):\n",
    "    df1 = pd.read_excel(path,\n",
    "              header=205, usecols=[0,1,4,5,7,8,9,11,12])\n",
    "    print('the length of df1 is', len(df1))\n",
    "    print('the number of unique color', len(df1['Color'].unique()))\n",
    "    print('the number of unique next color', len(df1['Next Color Code'].unique()))\n",
    "    print('the unique color exists in the color',\n",
    "          (set(df1['Color'].unique()) - set(df1['Next Color Code'].unique())))\n",
    "    print('the unique color exists in the next color',\n",
    "          list(set(df1['Next Color Code'].unique()) - set(df1['Color'].unique())))\n",
    "    newdf1 = df1.set_index('Next Color Code')\n",
    "    newdf1 = newdf1.drop(list(set(df1['Next Color Code'].unique()) - set(df1['Color'].unique())), axis=0)\n",
    "    print('the length of newdf1 is', len(newdf1))"
   ]
  },
  {
   "cell_type": "markdown",
   "metadata": {},
   "source": [
    "nosetest"
   ]
  },
  {
   "cell_type": "code",
   "execution_count": 83,
   "metadata": {},
   "outputs": [],
   "source": [
    "import pandas as pd\n",
    "#import delete_unusualcolor as du\n",
    "\n",
    "def test_delete_unusualcolor():\n",
    "    path = '../data/OrderColorTransitionsReport 1_1_17 - 4_22_19.xlsx'\n",
    "    du(path)\n",
    "    df1 = pd.read_excel('../data/OrderColorTransitionsReport 1_1_17 - 4_22_19.xlsx')\n",
    "    assert df1.empty == False,'you cannot put in an empty datafrmae'\n",
    "    "
   ]
  },
  {
   "cell_type": "markdown",
   "metadata": {},
   "source": [
    "### 2. For the fail rate"
   ]
  },
  {
   "cell_type": "code",
   "execution_count": 17,
   "metadata": {},
   "outputs": [
    {
     "name": "stdout",
     "output_type": "stream",
     "text": [
      "0       False\n",
      "1        True\n",
      "2        True\n",
      "3        True\n",
      "4       False\n",
      "        ...  \n",
      "4184     True\n",
      "4185    False\n",
      "4186    False\n",
      "4187     True\n",
      "4188    False\n",
      "Name: AGrade Sheets, Length: 4189, dtype: bool\n"
     ]
    }
   ],
   "source": [
    "print (df1['AGrade Sheets'].isnull())"
   ]
  },
  {
   "cell_type": "markdown",
   "metadata": {},
   "source": [
    "The total number of number of failing sheets"
   ]
  },
  {
   "cell_type": "code",
   "execution_count": 69,
   "metadata": {},
   "outputs": [
    {
     "name": "stdout",
     "output_type": "stream",
     "text": [
      "total number of our data is 4189\n"
     ]
    }
   ],
   "source": [
    "print ('total number of our data is', len(df1))"
   ]
  },
  {
   "cell_type": "code",
   "execution_count": 70,
   "metadata": {
    "scrolled": false
   },
   "outputs": [
    {
     "name": "stdout",
     "output_type": "stream",
     "text": [
      "the fail sheets number is 919\n"
     ]
    }
   ],
   "source": [
    "print ('the fail sheets number is', (df1['AGrade Sheets'].isnull().sum()))"
   ]
  },
  {
   "cell_type": "code",
   "execution_count": 11,
   "metadata": {},
   "outputs": [],
   "source": [
    "fail_rate = ['NA']"
   ]
  },
  {
   "cell_type": "markdown",
   "metadata": {},
   "source": [
    "## data collecting\n",
    "### right now we are tring to use the color code and transition sheet as our parameters"
   ]
  },
  {
   "cell_type": "code",
   "execution_count": null,
   "metadata": {},
   "outputs": [],
   "source": []
  },
  {
   "cell_type": "markdown",
   "metadata": {},
   "source": [
    "## creating dataframe"
   ]
  },
  {
   "cell_type": "code",
   "execution_count": null,
   "metadata": {},
   "outputs": [],
   "source": []
  }
 ],
 "metadata": {
  "kernelspec": {
   "display_name": "Python 3",
   "language": "python",
   "name": "python3"
  },
  "language_info": {
   "codemirror_mode": {
    "name": "ipython",
    "version": 3
   },
   "file_extension": ".py",
   "mimetype": "text/x-python",
   "name": "python",
   "nbconvert_exporter": "python",
   "pygments_lexer": "ipython3",
   "version": "3.7.4"
  }
 },
 "nbformat": 4,
 "nbformat_minor": 2
}
