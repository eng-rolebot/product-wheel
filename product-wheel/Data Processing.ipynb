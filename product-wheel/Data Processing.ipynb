{
 "cells": [
  {
   "cell_type": "markdown",
   "metadata": {},
   "source": [
    "## data cleaning"
   ]
  },
  {
   "cell_type": "markdown",
   "metadata": {},
   "source": [
    "In the reality, we have some unusual data, before we input the data, we need to perform the data cleaning.\n",
    "1. Unusual color code that only used once  2. Fail rate"
   ]
  },
  {
   "cell_type": "code",
   "execution_count": 2,
   "metadata": {},
   "outputs": [],
   "source": [
    "import pandas as pd\n",
    "import numpy as np\n",
    "import matplotlib.pyplot as plt"
   ]
  },
  {
   "cell_type": "markdown",
   "metadata": {},
   "source": [
    "Importing the first dataframe: ordercolor transition report"
   ]
  },
  {
   "cell_type": "code",
   "execution_count": 3,
   "metadata": {},
   "outputs": [],
   "source": [
    "df1 = pd.read_excel('../data/OrderColorTransitionsReport 1_1_17 - 4_22_19.xlsx',\n",
    "              header=205, usecols=[0,1,4,5,7,8,9,11,12])"
   ]
  },
  {
   "cell_type": "code",
   "execution_count": 4,
   "metadata": {},
   "outputs": [
    {
     "data": {
      "text/html": [
       "<div>\n",
       "<style scoped>\n",
       "    .dataframe tbody tr th:only-of-type {\n",
       "        vertical-align: middle;\n",
       "    }\n",
       "\n",
       "    .dataframe tbody tr th {\n",
       "        vertical-align: top;\n",
       "    }\n",
       "\n",
       "    .dataframe thead th {\n",
       "        text-align: right;\n",
       "    }\n",
       "</style>\n",
       "<table border=\"1\" class=\"dataframe\">\n",
       "  <thead>\n",
       "    <tr style=\"text-align: right;\">\n",
       "      <th></th>\n",
       "      <th>Cast Order</th>\n",
       "      <th>Color</th>\n",
       "      <th>Next Cast Order</th>\n",
       "      <th>Next Color Code</th>\n",
       "      <th>Cast Start</th>\n",
       "      <th>Cast End Time</th>\n",
       "      <th>Total Sheets</th>\n",
       "      <th>AGrade Sheets</th>\n",
       "      <th>Transition Sheets</th>\n",
       "    </tr>\n",
       "  </thead>\n",
       "  <tbody>\n",
       "    <tr>\n",
       "      <th>0</th>\n",
       "      <td>11570714</td>\n",
       "      <td>1M</td>\n",
       "      <td>11569110</td>\n",
       "      <td>CW</td>\n",
       "      <td>08/02/17 15:13</td>\n",
       "      <td>08/02/17 15:54</td>\n",
       "      <td>103</td>\n",
       "      <td>1</td>\n",
       "      <td>124</td>\n",
       "    </tr>\n",
       "    <tr>\n",
       "      <th>1</th>\n",
       "      <td>11570714</td>\n",
       "      <td>1M</td>\n",
       "      <td>11569110</td>\n",
       "      <td>CW</td>\n",
       "      <td>08/02/17 16:00</td>\n",
       "      <td>08/02/17 16:39</td>\n",
       "      <td>97</td>\n",
       "      <td>NaN</td>\n",
       "      <td>109</td>\n",
       "    </tr>\n",
       "    <tr>\n",
       "      <th>2</th>\n",
       "      <td>11570714</td>\n",
       "      <td>1M</td>\n",
       "      <td>11569110</td>\n",
       "      <td>CW</td>\n",
       "      <td>08/02/17 20:50</td>\n",
       "      <td>08/02/17 21:15</td>\n",
       "      <td>61</td>\n",
       "      <td>NaN</td>\n",
       "      <td>173</td>\n",
       "    </tr>\n",
       "    <tr>\n",
       "      <th>3</th>\n",
       "      <td>11570714</td>\n",
       "      <td>1M</td>\n",
       "      <td>11569110</td>\n",
       "      <td>CW</td>\n",
       "      <td>08/03/17 15:15</td>\n",
       "      <td>08/03/17 15:53</td>\n",
       "      <td>93</td>\n",
       "      <td>NaN</td>\n",
       "      <td>95</td>\n",
       "    </tr>\n",
       "    <tr>\n",
       "      <th>4</th>\n",
       "      <td>11570714</td>\n",
       "      <td>1M</td>\n",
       "      <td>11569110</td>\n",
       "      <td>CW</td>\n",
       "      <td>08/03/17 20:28</td>\n",
       "      <td>08/04/17 03:10</td>\n",
       "      <td>984</td>\n",
       "      <td>895</td>\n",
       "      <td>88</td>\n",
       "    </tr>\n",
       "  </tbody>\n",
       "</table>\n",
       "</div>"
      ],
      "text/plain": [
       "   Cast Order Color  Next Cast Order Next Color Code      Cast Start  \\\n",
       "0    11570714    1M         11569110              CW  08/02/17 15:13   \n",
       "1    11570714    1M         11569110              CW  08/02/17 16:00   \n",
       "2    11570714    1M         11569110              CW  08/02/17 20:50   \n",
       "3    11570714    1M         11569110              CW  08/03/17 15:15   \n",
       "4    11570714    1M         11569110              CW  08/03/17 20:28   \n",
       "\n",
       "    Cast End Time Total Sheets AGrade Sheets Transition Sheets  \n",
       "0  08/02/17 15:54          103             1               124  \n",
       "1  08/02/17 16:39           97           NaN               109  \n",
       "2  08/02/17 21:15           61           NaN               173  \n",
       "3  08/03/17 15:53           93           NaN                95  \n",
       "4  08/04/17 03:10          984           895                88  "
      ]
     },
     "execution_count": 4,
     "metadata": {},
     "output_type": "execute_result"
    }
   ],
   "source": [
    "df1.head()"
   ]
  },
  {
   "cell_type": "markdown",
   "metadata": {},
   "source": [
    "Importing the second dataframe: variable cost per sheet"
   ]
  },
  {
   "cell_type": "code",
   "execution_count": 5,
   "metadata": {},
   "outputs": [],
   "source": [
    "df2 = df_desc = pd.read_excel('../data/Variable cost per sheet.xlsx',\n",
    "                header=3)"
   ]
  },
  {
   "cell_type": "code",
   "execution_count": 6,
   "metadata": {
    "scrolled": true
   },
   "outputs": [
    {
     "data": {
      "text/html": [
       "<div>\n",
       "<style scoped>\n",
       "    .dataframe tbody tr th:only-of-type {\n",
       "        vertical-align: middle;\n",
       "    }\n",
       "\n",
       "    .dataframe tbody tr th {\n",
       "        vertical-align: top;\n",
       "    }\n",
       "\n",
       "    .dataframe thead th {\n",
       "        text-align: right;\n",
       "    }\n",
       "</style>\n",
       "<table border=\"1\" class=\"dataframe\">\n",
       "  <thead>\n",
       "    <tr style=\"text-align: right;\">\n",
       "      <th></th>\n",
       "      <th>Line</th>\n",
       "      <th>CC DIM</th>\n",
       "      <th>D code</th>\n",
       "      <th>2019 GLBL STD</th>\n",
       "      <th>Super Clean</th>\n",
       "      <th>Demand</th>\n",
       "      <th>Sales Rank</th>\n",
       "      <th>Sales Rank Cat</th>\n",
       "      <th>Family</th>\n",
       "      <th>Sub Family</th>\n",
       "      <th>...</th>\n",
       "      <th>Color</th>\n",
       "      <th>Sub Family Number</th>\n",
       "      <th>Sequence</th>\n",
       "      <th>VCOM</th>\n",
       "      <th>TCOM</th>\n",
       "      <th>Mean Trans Loss</th>\n",
       "      <th>Transition penalty</th>\n",
       "      <th>Family Transition Cost</th>\n",
       "      <th>Transition Cost</th>\n",
       "      <th>Update Family Seq</th>\n",
       "    </tr>\n",
       "  </thead>\n",
       "  <tbody>\n",
       "    <tr>\n",
       "      <th>0</th>\n",
       "      <td>CSL2</td>\n",
       "      <td>3D1/2</td>\n",
       "      <td>D12516781</td>\n",
       "      <td>NM</td>\n",
       "      <td>NaN</td>\n",
       "      <td>2693</td>\n",
       "      <td>107</td>\n",
       "      <td>R5 101+</td>\n",
       "      <td>Standard</td>\n",
       "      <td>Genesis</td>\n",
       "      <td>...</td>\n",
       "      <td>Clay</td>\n",
       "      <td>2</td>\n",
       "      <td>44.0</td>\n",
       "      <td>117.357384</td>\n",
       "      <td>156.761945</td>\n",
       "      <td>105.846154</td>\n",
       "      <td>NaN</td>\n",
       "      <td>NaN</td>\n",
       "      <td>12421.827745</td>\n",
       "      <td>2</td>\n",
       "    </tr>\n",
       "    <tr>\n",
       "      <th>1</th>\n",
       "      <td>CSL2</td>\n",
       "      <td>4B1/2</td>\n",
       "      <td>D13901285</td>\n",
       "      <td>Std</td>\n",
       "      <td>NaN</td>\n",
       "      <td>5189</td>\n",
       "      <td>83</td>\n",
       "      <td>R4 51-100</td>\n",
       "      <td>Standard</td>\n",
       "      <td>Lustra</td>\n",
       "      <td>...</td>\n",
       "      <td>Sparkling White</td>\n",
       "      <td>3</td>\n",
       "      <td>58.0</td>\n",
       "      <td>155.064526</td>\n",
       "      <td>208.946769</td>\n",
       "      <td>41.400000</td>\n",
       "      <td>NaN</td>\n",
       "      <td>NaN</td>\n",
       "      <td>6419.671385</td>\n",
       "      <td>3</td>\n",
       "    </tr>\n",
       "    <tr>\n",
       "      <th>2</th>\n",
       "      <td>CSL1</td>\n",
       "      <td>7B1/2</td>\n",
       "      <td>D11975095</td>\n",
       "      <td>Std</td>\n",
       "      <td>NaN</td>\n",
       "      <td>5475</td>\n",
       "      <td>26</td>\n",
       "      <td>R2 11-30</td>\n",
       "      <td>Granite</td>\n",
       "      <td>Summit</td>\n",
       "      <td>...</td>\n",
       "      <td>Maui</td>\n",
       "      <td>2</td>\n",
       "      <td>20.0</td>\n",
       "      <td>125.609690</td>\n",
       "      <td>187.432048</td>\n",
       "      <td>27.600000</td>\n",
       "      <td>NaN</td>\n",
       "      <td>NaN</td>\n",
       "      <td>3466.827448</td>\n",
       "      <td>2</td>\n",
       "    </tr>\n",
       "    <tr>\n",
       "      <th>3</th>\n",
       "      <td>CSL2</td>\n",
       "      <td>AA1/2</td>\n",
       "      <td>D12361842</td>\n",
       "      <td>Std</td>\n",
       "      <td>NaN</td>\n",
       "      <td>6566</td>\n",
       "      <td>94</td>\n",
       "      <td>R4 51-100</td>\n",
       "      <td>Granite</td>\n",
       "      <td>Artisan</td>\n",
       "      <td>...</td>\n",
       "      <td>Lava Rock</td>\n",
       "      <td>1</td>\n",
       "      <td>6.0</td>\n",
       "      <td>146.220113</td>\n",
       "      <td>212.491799</td>\n",
       "      <td>36.916667</td>\n",
       "      <td>11187.0</td>\n",
       "      <td>NaN</td>\n",
       "      <td>16584.959182</td>\n",
       "      <td>1</td>\n",
       "    </tr>\n",
       "    <tr>\n",
       "      <th>4</th>\n",
       "      <td>CSL1</td>\n",
       "      <td>AB1/2</td>\n",
       "      <td>D11972996</td>\n",
       "      <td>Std</td>\n",
       "      <td>NaN</td>\n",
       "      <td>10840</td>\n",
       "      <td>15</td>\n",
       "      <td>R2 11-30</td>\n",
       "      <td>Granite</td>\n",
       "      <td>Summit</td>\n",
       "      <td>...</td>\n",
       "      <td>Abalone</td>\n",
       "      <td>2</td>\n",
       "      <td>19.0</td>\n",
       "      <td>115.219542</td>\n",
       "      <td>171.037488</td>\n",
       "      <td>44.500000</td>\n",
       "      <td>NaN</td>\n",
       "      <td>NaN</td>\n",
       "      <td>5127.269602</td>\n",
       "      <td>2</td>\n",
       "    </tr>\n",
       "  </tbody>\n",
       "</table>\n",
       "<p>5 rows × 21 columns</p>\n",
       "</div>"
      ],
      "text/plain": [
       "   Line CC DIM     D code 2019 GLBL STD Super Clean  Demand  Sales Rank  \\\n",
       "0  CSL2  3D1/2  D12516781            NM         NaN    2693         107   \n",
       "1  CSL2  4B1/2  D13901285           Std         NaN    5189          83   \n",
       "2  CSL1  7B1/2  D11975095           Std         NaN    5475          26   \n",
       "3  CSL2  AA1/2  D12361842           Std         NaN    6566          94   \n",
       "4  CSL1  AB1/2  D11972996           Std         NaN   10840          15   \n",
       "\n",
       "  Sales Rank Cat    Family Sub Family  ...            Color Sub Family Number  \\\n",
       "0        R5 101+  Standard    Genesis  ...             Clay                 2   \n",
       "1      R4 51-100  Standard     Lustra  ...  Sparkling White                 3   \n",
       "2       R2 11-30   Granite     Summit  ...             Maui                 2   \n",
       "3      R4 51-100   Granite    Artisan  ...        Lava Rock                 1   \n",
       "4       R2 11-30   Granite     Summit  ...          Abalone                 2   \n",
       "\n",
       "   Sequence        VCOM        TCOM  Mean Trans Loss  Transition penalty  \\\n",
       "0      44.0  117.357384  156.761945       105.846154                 NaN   \n",
       "1      58.0  155.064526  208.946769        41.400000                 NaN   \n",
       "2      20.0  125.609690  187.432048        27.600000                 NaN   \n",
       "3       6.0  146.220113  212.491799        36.916667             11187.0   \n",
       "4      19.0  115.219542  171.037488        44.500000                 NaN   \n",
       "\n",
       "   Family Transition Cost  Transition Cost  Update Family Seq  \n",
       "0                     NaN     12421.827745                  2  \n",
       "1                     NaN      6419.671385                  3  \n",
       "2                     NaN      3466.827448                  2  \n",
       "3                     NaN     16584.959182                  1  \n",
       "4                     NaN      5127.269602                  2  \n",
       "\n",
       "[5 rows x 21 columns]"
      ]
     },
     "execution_count": 6,
     "metadata": {},
     "output_type": "execute_result"
    }
   ],
   "source": [
    "df2.head()"
   ]
  },
  {
   "cell_type": "markdown",
   "metadata": {},
   "source": [
    "1. For the unsusal color code"
   ]
  },
  {
   "cell_type": "markdown",
   "metadata": {},
   "source": [
    "To see how many unique color in the color and next color code."
   ]
  },
  {
   "cell_type": "code",
   "execution_count": 21,
   "metadata": {
    "scrolled": true
   },
   "outputs": [
    {
     "name": "stdout",
     "output_type": "stream",
     "text": [
      "267\n",
      "269\n"
     ]
    }
   ],
   "source": [
    "print(len(df1['Color'].unique()))\n",
    "print(len(df1['Next Color Code'].unique()))"
   ]
  },
  {
   "cell_type": "code",
   "execution_count": 23,
   "metadata": {
    "scrolled": true
   },
   "outputs": [
    {
     "name": "stdout",
     "output_type": "stream",
     "text": [
      "[]\n",
      "['DP', 'dv']\n"
     ]
    }
   ],
   "source": [
    "print(list(set(df1['Color'].unique()) - set(df1['Next Color Code'].unique())))\n",
    "print(list(set(df1['Next Color Code'].unique()) - set(df1['Color'].unique())))"
   ]
  },
  {
   "cell_type": "code",
   "execution_count": 38,
   "metadata": {},
   "outputs": [],
   "source": [
    "uc = ['DP', 'dv']"
   ]
  },
  {
   "cell_type": "code",
   "execution_count": 41,
   "metadata": {},
   "outputs": [
    {
     "data": {
      "text/html": [
       "<div>\n",
       "<style scoped>\n",
       "    .dataframe tbody tr th:only-of-type {\n",
       "        vertical-align: middle;\n",
       "    }\n",
       "\n",
       "    .dataframe tbody tr th {\n",
       "        vertical-align: top;\n",
       "    }\n",
       "\n",
       "    .dataframe thead th {\n",
       "        text-align: right;\n",
       "    }\n",
       "</style>\n",
       "<table border=\"1\" class=\"dataframe\">\n",
       "  <thead>\n",
       "    <tr style=\"text-align: right;\">\n",
       "      <th></th>\n",
       "      <th>Cast Order</th>\n",
       "      <th>Color</th>\n",
       "      <th>Next Cast Order</th>\n",
       "      <th>Next Color Code</th>\n",
       "      <th>Cast Start</th>\n",
       "      <th>Cast End Time</th>\n",
       "      <th>Total Sheets</th>\n",
       "      <th>AGrade Sheets</th>\n",
       "      <th>Transition Sheets</th>\n",
       "    </tr>\n",
       "  </thead>\n",
       "  <tbody>\n",
       "    <tr>\n",
       "      <th>887</th>\n",
       "      <td>11621393</td>\n",
       "      <td>CW</td>\n",
       "      <td>11621091</td>\n",
       "      <td>dv</td>\n",
       "      <td>02/10/18 03:42</td>\n",
       "      <td>02/10/18 14:54</td>\n",
       "      <td>1,004</td>\n",
       "      <td>971</td>\n",
       "      <td>14</td>\n",
       "    </tr>\n",
       "    <tr>\n",
       "      <th>3512</th>\n",
       "      <td>11548686</td>\n",
       "      <td>W5</td>\n",
       "      <td>11552521</td>\n",
       "      <td>DP</td>\n",
       "      <td>05/31/17 00:25</td>\n",
       "      <td>05/31/17 03:19</td>\n",
       "      <td>254</td>\n",
       "      <td>142</td>\n",
       "      <td>76</td>\n",
       "    </tr>\n",
       "  </tbody>\n",
       "</table>\n",
       "</div>"
      ],
      "text/plain": [
       "      Cast Order Color  Next Cast Order Next Color Code      Cast Start  \\\n",
       "887     11621393    CW         11621091              dv  02/10/18 03:42   \n",
       "3512    11548686    W5         11552521              DP  05/31/17 00:25   \n",
       "\n",
       "       Cast End Time Total Sheets AGrade Sheets Transition Sheets  \n",
       "887   02/10/18 14:54        1,004           971                14  \n",
       "3512  05/31/17 03:19          254           142                76  "
      ]
     },
     "execution_count": 41,
     "metadata": {},
     "output_type": "execute_result"
    }
   ],
   "source": [
    "df1.loc[df1['Next Color Code'].isin(['DP', 'dv'])]"
   ]
  },
  {
   "cell_type": "markdown",
   "metadata": {},
   "source": [
    "Find the unsual color code in the data frame and delete it"
   ]
  },
  {
   "cell_type": "code",
   "execution_count": 42,
   "metadata": {},
   "outputs": [
    {
     "data": {
      "text/plain": [
       "4189"
      ]
     },
     "execution_count": 42,
     "metadata": {},
     "output_type": "execute_result"
    }
   ],
   "source": [
    "len(df1)"
   ]
  },
  {
   "cell_type": "code",
   "execution_count": 46,
   "metadata": {},
   "outputs": [
    {
     "ename": "SyntaxError",
     "evalue": "keyword can't be an expression (<ipython-input-46-09f544788a25>, line 1)",
     "output_type": "error",
     "traceback": [
      "\u001b[0;36m  File \u001b[0;32m\"<ipython-input-46-09f544788a25>\"\u001b[0;36m, line \u001b[0;32m1\u001b[0m\n\u001b[0;31m    df1.drop('Next Color Code'=['DP', 'dv'],axis=0)\u001b[0m\n\u001b[0m            ^\u001b[0m\n\u001b[0;31mSyntaxError\u001b[0m\u001b[0;31m:\u001b[0m keyword can't be an expression\n"
     ]
    }
   ],
   "source": [
    "df1.drop('Next Color Code'=['DP'],['dv'], axis=0)"
   ]
  },
  {
   "cell_type": "markdown",
   "metadata": {},
   "source": [
    "2. For the fail rate"
   ]
  },
  {
   "cell_type": "code",
   "execution_count": 17,
   "metadata": {},
   "outputs": [
    {
     "name": "stdout",
     "output_type": "stream",
     "text": [
      "0       False\n",
      "1        True\n",
      "2        True\n",
      "3        True\n",
      "4       False\n",
      "        ...  \n",
      "4184     True\n",
      "4185    False\n",
      "4186    False\n",
      "4187     True\n",
      "4188    False\n",
      "Name: AGrade Sheets, Length: 4189, dtype: bool\n"
     ]
    }
   ],
   "source": [
    "print (df1['AGrade Sheets'].isnull())"
   ]
  },
  {
   "cell_type": "markdown",
   "metadata": {},
   "source": [
    "The total number of number of failing sheets"
   ]
  },
  {
   "cell_type": "code",
   "execution_count": 19,
   "metadata": {
    "scrolled": true
   },
   "outputs": [
    {
     "name": "stdout",
     "output_type": "stream",
     "text": [
      "919\n"
     ]
    }
   ],
   "source": [
    "print (df1['AGrade Sheets'].isnull().sum())"
   ]
  },
  {
   "cell_type": "code",
   "execution_count": 11,
   "metadata": {},
   "outputs": [],
   "source": [
    "fail_rate = ['NA']"
   ]
  },
  {
   "cell_type": "markdown",
   "metadata": {},
   "source": [
    "## data collecting\n",
    "### right now we are tring to use the color code and transition sheet as our parameters"
   ]
  },
  {
   "cell_type": "code",
   "execution_count": null,
   "metadata": {},
   "outputs": [],
   "source": []
  },
  {
   "cell_type": "markdown",
   "metadata": {},
   "source": [
    "## creating dataframe"
   ]
  },
  {
   "cell_type": "code",
   "execution_count": null,
   "metadata": {},
   "outputs": [],
   "source": []
  }
 ],
 "metadata": {
  "kernelspec": {
   "display_name": "Python 3",
   "language": "python",
   "name": "python3"
  },
  "language_info": {
   "codemirror_mode": {
    "name": "ipython",
    "version": 3
   },
   "file_extension": ".py",
   "mimetype": "text/x-python",
   "name": "python",
   "nbconvert_exporter": "python",
   "pygments_lexer": "ipython3",
   "version": "3.7.4"
  }
 },
 "nbformat": 4,
 "nbformat_minor": 2
}
